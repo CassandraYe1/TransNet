{
 "cells": [
  {
   "cell_type": "code",
   "execution_count": 1,
   "metadata": {
    "collapsed": true,
    "pycharm": {
     "name": "#%%\n"
    }
   },
   "outputs": [],
   "source": [
    "import numpy as np\n",
    "import matplotlib.pyplot as plt\n",
    "import torch\n",
    "import torch.nn as nn"
   ]
  },
  {
   "cell_type": "code",
   "execution_count": 2,
   "metadata": {
    "collapsed": false,
    "pycharm": {
     "name": "#%%\n"
    }
   },
   "outputs": [],
   "source": [
    "from problem import Domain, Heat_2d_Case1, Heat_2d_Case2, Heat_Diffusion_1T\n",
    "from my_utils import plot_domain_2d, plot_2d_tri\n",
    "from scipy.stats import qmc"
   ]
  },
  {
   "cell_type": "code",
   "execution_count": 3,
   "metadata": {
    "collapsed": false,
    "pycharm": {
     "name": "#%%\n"
    }
   },
   "outputs": [
    {
     "name": "stdout",
     "output_type": "stream",
     "text": [
      "[[0 1]\n",
      " [0 1]\n",
      " [0 1]]\n"
     ]
    },
    {
     "name": "stdout",
     "output_type": "stream",
     "text": [
      "(4229225, 3)\n",
      "(260260, 3)\n",
      "(4225, 3)\n",
      "(4229225, 3)\n"
     ]
    }
   ],
   "source": [
    "# generate grid points\n",
    "domain = Domain(domain_range=(0,1,0,1,0,1), domain_shape='box')\n",
    "print(domain.domain_range)\n",
    "sampler = qmc.Halton(d=3, scramble=True)\n",
    "x_pde = domain.sample_domain_uniform(mesh_size=[1001,65,65])\n",
    "x_test = domain.sample_domain_uniform(mesh_size=[1001,65,65])\n",
    "x_bd = domain.sample_nd_mesh_bd(mesh_vec=[1001,65,65])\n",
    "x_bd = domain.shift2range(x_bd)\n",
    "\n",
    "x_ic = x_bd[4225:8450]\n",
    "x_bd = x_bd[8450:]\n",
    "print(x_pde.shape)\n",
    "print(x_bd.shape)\n",
    "print(x_ic.shape)\n",
    "print(x_test.shape)"
   ]
  },
  {
   "cell_type": "code",
   "execution_count": 11,
   "metadata": {},
   "outputs": [
    {
     "name": "stdout",
     "output_type": "stream",
     "text": [
      "***************************************************\n",
      "Heat_example (case=None):\n",
      "\tx_pde:   \t(4229225, 3)\n",
      "\tx_bd:    \t(260260, 3)\n",
      "\tx_ic:    \t(4229225, 3)\n",
      "\tx_test:    \t(1090089, 3)\n",
      "***************************************************\n"
     ]
    }
   ],
   "source": [
    "my_prob = Heat_2d_Case1()\n",
    "#x,u = my_prob.check_solution(x_pde)\n",
    "# plot_2d_tri(x[:,0], x[:,1], u[:,0])\n",
    "\n",
    "target_pde = my_prob.rhs(x_pde)\n",
    "target_bd = my_prob.boudary(x_bd)\n",
    "target_ic = my_prob.initial(x_ic[:4225])\n",
    "\n",
    "target_test = {}\n",
    "heat_example = np.load('/root/radiation diffusion/TransNet/radiation diffusion/Heat-Case1/Heat-Case1.npy')\n",
    "#heat_example_test = heat_example[:,::2,::2].transpose((0,2,1)).flatten()\n",
    "heat_example_test = heat_example[:,::4,::4].transpose((0,2,1)).flatten()\n",
    "target_test['u'] = heat_example_test.reshape(-1,1)\n",
    "\n",
    "my_prob.set_data(x_pde=x_pde, x_test=x_test, x_bd=x_bd, x_ic=x_ic,\n",
    "                 target_pde=target_pde, target_test=target_test, target_bd=target_bd, target_ic=target_ic)\n",
    "print(my_prob)"
   ]
  },
  {
   "cell_type": "code",
   "execution_count": 12,
   "metadata": {},
   "outputs": [],
   "source": [
    "np.savez('/root/radiation diffusion/TransNet/radiation diffusion/Heat-Case1/data-Heat-Case1-2.npz', x_pde=x_pde, x_test=x_test, x_bd=x_bd, x_ic=x_ic,\n",
    "            target_pde=target_pde, target_test=target_test, target_bd=target_bd, target_ic=target_ic)"
   ]
  },
  {
   "cell_type": "code",
   "execution_count": 4,
   "metadata": {},
   "outputs": [
    {
     "name": "stdout",
     "output_type": "stream",
     "text": [
      "***************************************************\n",
      "Heat_example (case=None):\n",
      "\tx_pde:   \t(25025, 3)\n",
      "\tx_bd:    \t(20020, 3)\n",
      "\tx_ic:    \t(1090089, 3)\n",
      "\tx_test:    \t(1090089, 3)\n",
      "***************************************************\n"
     ]
    }
   ],
   "source": [
    "my_prob = Heat_2d_Case2()\n",
    "#x,u = my_prob.check_solution(x_pde)\n",
    "# plot_2d_tri(x[:,0], x[:,1], u[:,0])\n",
    "\n",
    "target_pde = my_prob.rhs(x_pde)\n",
    "target_bd = my_prob.boudary(x_bd)\n",
    "target_ic = my_prob.initial(x_ic[:1089,:])\n",
    "\n",
    "target_test = {}\n",
    "heat_example = np.load('/root/radiation diffusion/TransNet/radiation diffusion/Heat-Case2/Heat-Case2.npy')\n",
    "#heat_example_test = heat_example[:,::2,::2].transpose((0,2,1)).flatten()\n",
    "heat_example_test = heat_example[:,::4,::4].transpose((0,2,1)).flatten()\n",
    "target_test['u'] = heat_example_test.reshape(-1,1)\n",
    "\n",
    "my_prob.set_data(x_pde=x_pde, x_test=x_test, x_bd=x_bd, x_ic=x_ic,\n",
    "                 target_pde=target_pde, target_test=target_test, target_bd=target_bd, target_ic=target_ic)\n",
    "print(my_prob)"
   ]
  },
  {
   "cell_type": "code",
   "execution_count": 5,
   "metadata": {},
   "outputs": [],
   "source": [
    "np.savez('/root/radiation diffusion/TransNet/radiation diffusion/Heat-Case2/data-Heat-Case2-2.npz', x_pde=x_pde, x_test=x_test, x_bd=x_bd, x_ic=x_ic,\n",
    "            target_pde=target_pde, target_test=target_test, target_bd=target_bd, target_ic=target_ic)"
   ]
  },
  {
   "cell_type": "code",
   "execution_count": 7,
   "metadata": {
    "collapsed": false,
    "pycharm": {
     "name": "#%%\n"
    }
   },
   "outputs": [
    {
     "name": "stdout",
     "output_type": "stream",
     "text": [
      "***************************************************\n",
      "Heat_diffusion_1T (case=z3b1g2Dul):\n",
      "\tx_pde:   \t(4229225, 3)\n",
      "\tx_bd:    \t(260260, 3)\n",
      "\tx_ic:    \t(4225, 3)\n",
      "\tx_test:    \t(4229225, 3)\n",
      "***************************************************\n"
     ]
    }
   ],
   "source": [
    "# save grid points and exact solutions\n",
    "my_prob = Heat_Diffusion_1T(case='z3b1g2Dul')\n",
    "\n",
    "target_pde = my_prob.rhs(x_pde)\n",
    "target_ic = my_prob.initial(x_ic)\n",
    "\n",
    "target_bd = []\n",
    "l = int(len(x_bd) / 4)\n",
    "target_bd_right = my_prob.boudary_others(x_bd[:l])\n",
    "target_bd.append(target_bd_right)\n",
    "target_bd_left = my_prob.boudary_left(x_bd[l:2*l])\n",
    "target_bd.append(target_bd_left)\n",
    "target_bd_top = my_prob.boudary_others(x_bd[2*l:3*l])\n",
    "target_bd.append(target_bd_top)\n",
    "target_bd_bottom = my_prob.boudary_others(x_bd[3*l:])\n",
    "target_bd.append(target_bd_bottom)\n",
    "target_bd = np.concatenate(target_bd, axis=0)\n",
    "\n",
    "target_test = {}\n",
    "heat_example = np.load('/root/radiation diffusion/TransNet/radiation diffusion/Heat-1T-z3b1g2Dul/Heat-z3b1g2Dul.npy')\n",
    "heat_example_test = heat_example[:,::2,::2].transpose((0,2,1)).flatten()\n",
    "target_test['u'] = heat_example_test.reshape(-1,1)\n",
    "\n",
    "my_prob.set_data(x_pde=x_pde, x_test=x_test, x_bd=x_bd, x_ic=x_ic,\n",
    "                 target_pde=target_pde, target_test=target_test, target_bd=target_bd, target_ic=target_ic)\n",
    "print(my_prob)"
   ]
  },
  {
   "cell_type": "code",
   "execution_count": 8,
   "metadata": {
    "collapsed": false,
    "pycharm": {
     "name": "#%%\n"
    }
   },
   "outputs": [],
   "source": [
    "np.savez('/root/radiation diffusion/TransNet/radiation diffusion/Heat-1T-z3b1g2Dul/data-Heat-z3b1g2Dul-1.npz', x_pde=x_pde, x_test=x_test, x_bd=x_bd, x_ic=x_ic,\n",
    "            target_pde=target_pde, target_test=target_test, target_bd=target_bd, target_ic=target_ic)"
   ]
  },
  {
   "cell_type": "code",
   "execution_count": 4,
   "metadata": {},
   "outputs": [
    {
     "name": "stdout",
     "output_type": "stream",
     "text": [
      "***************************************************\n",
      "Heat_diffusion_1T (case=z3b2g1Dul):\n",
      "\tx_pde:   \t(4229225, 3)\n",
      "\tx_bd:    \t(260260, 3)\n",
      "\tx_ic:    \t(4225, 3)\n",
      "\tx_test:    \t(4229225, 3)\n",
      "***************************************************\n"
     ]
    }
   ],
   "source": [
    "my_prob = Heat_Diffusion_1T(case='z3b2g1Dul')\n",
    "#x,u = my_prob.check_solution(x_pde)\n",
    "# plot_2d_tri(x[:,0], x[:,1], u[:,0])\n",
    "\n",
    "target_pde = my_prob.rhs(x_pde)\n",
    "target_ic = my_prob.initial(x_ic)\n",
    "\n",
    "target_bd = []\n",
    "l = int(len(x_bd) / 4)\n",
    "target_bd_right = my_prob.boudary_others(x_bd[:l])\n",
    "target_bd.append(target_bd_right)\n",
    "target_bd_left = my_prob.boudary_left(x_bd[l:2*l])\n",
    "target_bd.append(target_bd_left)\n",
    "target_bd_top = my_prob.boudary_others(x_bd[2*l:3*l])\n",
    "target_bd.append(target_bd_top)\n",
    "target_bd_bottom = my_prob.boudary_others(x_bd[3*l:])\n",
    "target_bd.append(target_bd_bottom)\n",
    "target_bd = np.concatenate(target_bd, axis=0)\n",
    "\n",
    "target_test = {}\n",
    "heat_example = np.load('/root/radiation diffusion/TransNet/radiation diffusion/Heat-1T-z3b2g1Dul/Heat-z3b2g1Dul.npy')\n",
    "heat_example_test = heat_example[:,::2,::2].transpose((0,2,1)).flatten()\n",
    "target_test['u'] = heat_example_test.reshape(-1,1)\n",
    "\n",
    "my_prob.set_data(x_pde=x_pde, x_test=x_test, x_bd=x_bd, x_ic=x_ic,\n",
    "                 target_pde=target_pde, target_test=target_test, target_bd=target_bd, target_ic=target_ic)\n",
    "print(my_prob)"
   ]
  },
  {
   "cell_type": "code",
   "execution_count": 7,
   "metadata": {},
   "outputs": [],
   "source": [
    "np.savez('/root/radiation diffusion/TransNet/radiation diffusion/Heat-1T-z3b2g1Dul/data-Heat-z3b2g1Dul-1.npz', x_pde=x_pde, x_test=x_test, x_bd=x_bd, x_ic=x_ic,\n",
    "            target_pde=target_pde, target_test=target_test, target_bd=target_bd, target_ic=target_ic)"
   ]
  },
  {
   "cell_type": "code",
   "execution_count": 7,
   "metadata": {},
   "outputs": [
    {
     "data": {
      "image/png": "[encoded data removed]",
      "text/plain": [
       "<Figure size 640x480 with 2 Axes>"
      ]
     },
     "metadata": {},
     "output_type": "display_data"
    }
   ],
   "source": [
    "a = np.load('/root/radiation diffusion/TransNet/radiation diffusion/Heat-1T-z3b1g2Dul/Heat-z3b1g2Dul.npy')\n",
    "plt.imshow(a[0])\n",
    "plt.colorbar()\n",
    "plt.show()"
   ]
  }
 ],
 "metadata": {
  "kernelspec": {
   "display_name": "Python 3",
   "language": "python",
   "name": "python3"
  },
  "language_info": {
   "codemirror_mode": {
    "name": "ipython",
    "version": 3
   },
   "file_extension": ".py",
   "mimetype": "text/x-python",
   "name": "python",
   "nbconvert_exporter": "python",
   "pygments_lexer": "ipython3",
   "version": "3.10.13"
  }
 },
 "nbformat": 4,
 "nbformat_minor": 0
}
